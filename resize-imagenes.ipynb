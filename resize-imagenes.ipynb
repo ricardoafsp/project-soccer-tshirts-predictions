{
 "cells": [
  {
   "cell_type": "code",
   "execution_count": 85,
   "metadata": {},
   "outputs": [],
   "source": [
    "#from __future__ import print_function\n",
    "import cv2\n",
    "import matplotlib.pyplot as plt\n",
    "import numpy as np\n",
    "import pandas as pd\n",
    "from sklearn.model_selection import train_test_split\n",
    "import keras\n",
    "from keras.models import Sequential\n",
    "from keras.layers import Dense, Dropout, Flatten\n",
    "from keras.layers import Conv2D, MaxPooling2D\n",
    "from keras import backend as K\n",
    "from keras.utils import to_categorical\n",
    "from keras.layers.advanced_activations import LeakyReLU\n",
    "from scipy import ndimage\n",
    "import tensorflow as tf\n",
    "from PIL import Image\n",
    "import requests"
   ]
  },
  {
   "cell_type": "code",
   "execution_count": 2,
   "metadata": {},
   "outputs": [],
   "source": [
    "import os\n",
    "# List all files in a directory using os.listdir\n",
    "images=[]\n",
    "equipos = ['Barcelona', 'Real Madrid', 'Valencia', 'Getafe', 'Betis', 'Atletico de Madrid', 'Athletic Bilbao']\n",
    "for x in equipos:\n",
    "    basepath = f'Jugadores/{x}'\n",
    "    for entry in os.listdir(basepath):\n",
    "        if os.path.isfile(os.path.join(basepath, entry)):\n",
    "            images.append(basepath+'/'+entry)"
   ]
  },
  {
   "cell_type": "code",
   "execution_count": 6,
   "metadata": {},
   "outputs": [],
   "source": [
    "tShirts = {'Camisetas':[],'Equipos':[]}\n",
    "def rotateImg(x,img,num):\n",
    "    tShirts['Camisetas'].append(ndimage.rotate(img, num, reshape=False))\n",
    "    tShirts['Equipos'].append(x.split('/')[1])\n",
    "    return tShirts"
   ]
  },
  {
   "cell_type": "code",
   "execution_count": 7,
   "metadata": {},
   "outputs": [],
   "source": [
    "#tShirts = {'Camisetas':[],'Equipos':[]}\n",
    "def readAndResize(images):\n",
    "    for x in images:\n",
    "        if '.DS_Store' not in x:\n",
    "            img = cv2.imread(x)\n",
    "            img = cv2.resize(img,(256,256),3)\n",
    "            tShirts['Camisetas'].append(img)\n",
    "            tShirts['Equipos'].append(x.split('/')[1])\n",
    "            #a_flip = np.flip(img,axis=1)\n",
    "            #tShirts['Camisetas'].append(a_flip)\n",
    "            #tShirts['Equipos'].append(x.split('/')[1])\n",
    "            #rotate270 = ndimage.rotate(img, 270, reshape=False)\n",
    "            #tShirts['Camisetas'].append(rotate270)\n",
    "            #tShirts['Equipos'].append(x.split('/')[1])\n",
    "            #rotate90 = ndimage.rotate(img, 90, reshape=False)\n",
    "            #tShirts['Camisetas'].append(rotate90)\n",
    "            #tShirts['Equipos'].append(x.split('/')[1])\n",
    "            #rotate45 = ndimage.rotate(img, 45, reshape=False)\n",
    "            #tShirts['Camisetas'].append(rotate45)\n",
    "            #tShirts['Equipos'].append(x.split('/')[1])\n",
    "            rotateImg(x,img,45)\n",
    "            rotateImg(x,img,90)\n",
    "            rotateImg(x,img,180)\n",
    "            rotateImg(x,img,270)\n",
    "    return tShirts"
   ]
  },
  {
   "cell_type": "code",
   "execution_count": 5,
   "metadata": {},
   "outputs": [],
   "source": [
    "readAndResize(images);"
   ]
  },
  {
   "cell_type": "code",
   "execution_count": 6,
   "metadata": {
    "scrolled": false
   },
   "outputs": [
    {
     "data": {
      "text/html": [
       "<div>\n",
       "<style scoped>\n",
       "    .dataframe tbody tr th:only-of-type {\n",
       "        vertical-align: middle;\n",
       "    }\n",
       "\n",
       "    .dataframe tbody tr th {\n",
       "        vertical-align: top;\n",
       "    }\n",
       "\n",
       "    .dataframe thead th {\n",
       "        text-align: right;\n",
       "    }\n",
       "</style>\n",
       "<table border=\"1\" class=\"dataframe\">\n",
       "  <thead>\n",
       "    <tr style=\"text-align: right;\">\n",
       "      <th></th>\n",
       "      <th>Camisetas</th>\n",
       "      <th>Equipos</th>\n",
       "    </tr>\n",
       "  </thead>\n",
       "  <tbody>\n",
       "    <tr>\n",
       "      <th>0</th>\n",
       "      <td>[[[16, 14, 20], [16, 14, 20], [20, 18, 24], [1...</td>\n",
       "      <td>Barcelona</td>\n",
       "    </tr>\n",
       "    <tr>\n",
       "      <th>1</th>\n",
       "      <td>[[[0, 0, 0], [0, 0, 0], [0, 0, 0], [0, 0, 0], ...</td>\n",
       "      <td>Barcelona</td>\n",
       "    </tr>\n",
       "    <tr>\n",
       "      <th>2</th>\n",
       "      <td>[[[0, 0, 0], [7, 5, 5], [6, 4, 4], [5, 3, 3], ...</td>\n",
       "      <td>Barcelona</td>\n",
       "    </tr>\n",
       "    <tr>\n",
       "      <th>3</th>\n",
       "      <td>[[[21, 18, 27], [18, 16, 22], [19, 17, 21], [1...</td>\n",
       "      <td>Barcelona</td>\n",
       "    </tr>\n",
       "    <tr>\n",
       "      <th>4</th>\n",
       "      <td>[[[0, 0, 0], [44, 28, 16], [46, 30, 18], [43, ...</td>\n",
       "      <td>Barcelona</td>\n",
       "    </tr>\n",
       "    <tr>\n",
       "      <th>...</th>\n",
       "      <td>...</td>\n",
       "      <td>...</td>\n",
       "    </tr>\n",
       "    <tr>\n",
       "      <th>1745</th>\n",
       "      <td>[[[43, 38, 83], [36, 30, 80], [30, 21, 76], [2...</td>\n",
       "      <td>Athletic Bilbao</td>\n",
       "    </tr>\n",
       "    <tr>\n",
       "      <th>1746</th>\n",
       "      <td>[[[0, 0, 0], [0, 0, 0], [0, 0, 0], [0, 0, 0], ...</td>\n",
       "      <td>Athletic Bilbao</td>\n",
       "    </tr>\n",
       "    <tr>\n",
       "      <th>1747</th>\n",
       "      <td>[[[0, 0, 0], [28, 27, 23], [27, 26, 22], [25, ...</td>\n",
       "      <td>Athletic Bilbao</td>\n",
       "    </tr>\n",
       "    <tr>\n",
       "      <th>1748</th>\n",
       "      <td>[[[53, 178, 128], [61, 186, 136], [61, 184, 13...</td>\n",
       "      <td>Athletic Bilbao</td>\n",
       "    </tr>\n",
       "    <tr>\n",
       "      <th>1749</th>\n",
       "      <td>[[[0, 0, 0], [56, 182, 132], [55, 183, 132], [...</td>\n",
       "      <td>Athletic Bilbao</td>\n",
       "    </tr>\n",
       "  </tbody>\n",
       "</table>\n",
       "<p>1750 rows × 2 columns</p>\n",
       "</div>"
      ],
      "text/plain": [
       "                                              Camisetas          Equipos\n",
       "0     [[[16, 14, 20], [16, 14, 20], [20, 18, 24], [1...        Barcelona\n",
       "1     [[[0, 0, 0], [0, 0, 0], [0, 0, 0], [0, 0, 0], ...        Barcelona\n",
       "2     [[[0, 0, 0], [7, 5, 5], [6, 4, 4], [5, 3, 3], ...        Barcelona\n",
       "3     [[[21, 18, 27], [18, 16, 22], [19, 17, 21], [1...        Barcelona\n",
       "4     [[[0, 0, 0], [44, 28, 16], [46, 30, 18], [43, ...        Barcelona\n",
       "...                                                 ...              ...\n",
       "1745  [[[43, 38, 83], [36, 30, 80], [30, 21, 76], [2...  Athletic Bilbao\n",
       "1746  [[[0, 0, 0], [0, 0, 0], [0, 0, 0], [0, 0, 0], ...  Athletic Bilbao\n",
       "1747  [[[0, 0, 0], [28, 27, 23], [27, 26, 22], [25, ...  Athletic Bilbao\n",
       "1748  [[[53, 178, 128], [61, 186, 136], [61, 184, 13...  Athletic Bilbao\n",
       "1749  [[[0, 0, 0], [56, 182, 132], [55, 183, 132], [...  Athletic Bilbao\n",
       "\n",
       "[1750 rows x 2 columns]"
      ]
     },
     "execution_count": 6,
     "metadata": {},
     "output_type": "execute_result"
    }
   ],
   "source": [
    "tShirtsDF = pd.DataFrame(tShirts)\n",
    "tShirtsDF"
   ]
  },
  {
   "cell_type": "code",
   "execution_count": 8,
   "metadata": {},
   "outputs": [],
   "source": [
    "labels = {\n",
    "    'Barcelona' : 0,\n",
    "    'Real Madrid' : 1,\n",
    "    'Valencia' : 2,\n",
    "    'Getafe' : 3,\n",
    "    'Betis' : 4,\n",
    "    'Atletico de Madrid' : 5,\n",
    "    'Athletic Bilbao' : 6\n",
    "}"
   ]
  },
  {
   "cell_type": "code",
   "execution_count": 9,
   "metadata": {},
   "outputs": [
    {
     "data": {
      "text/html": [
       "<div>\n",
       "<style scoped>\n",
       "    .dataframe tbody tr th:only-of-type {\n",
       "        vertical-align: middle;\n",
       "    }\n",
       "\n",
       "    .dataframe tbody tr th {\n",
       "        vertical-align: top;\n",
       "    }\n",
       "\n",
       "    .dataframe thead th {\n",
       "        text-align: right;\n",
       "    }\n",
       "</style>\n",
       "<table border=\"1\" class=\"dataframe\">\n",
       "  <thead>\n",
       "    <tr style=\"text-align: right;\">\n",
       "      <th></th>\n",
       "      <th>Camisetas</th>\n",
       "      <th>Equipos</th>\n",
       "      <th>Labels</th>\n",
       "    </tr>\n",
       "  </thead>\n",
       "  <tbody>\n",
       "    <tr>\n",
       "      <th>0</th>\n",
       "      <td>[[[16, 14, 20], [16, 14, 20], [20, 18, 24], [1...</td>\n",
       "      <td>Barcelona</td>\n",
       "      <td>0</td>\n",
       "    </tr>\n",
       "    <tr>\n",
       "      <th>1</th>\n",
       "      <td>[[[0, 0, 0], [0, 0, 0], [0, 0, 0], [0, 0, 0], ...</td>\n",
       "      <td>Barcelona</td>\n",
       "      <td>0</td>\n",
       "    </tr>\n",
       "    <tr>\n",
       "      <th>2</th>\n",
       "      <td>[[[0, 0, 0], [7, 5, 5], [6, 4, 4], [5, 3, 3], ...</td>\n",
       "      <td>Barcelona</td>\n",
       "      <td>0</td>\n",
       "    </tr>\n",
       "    <tr>\n",
       "      <th>3</th>\n",
       "      <td>[[[21, 18, 27], [18, 16, 22], [19, 17, 21], [1...</td>\n",
       "      <td>Barcelona</td>\n",
       "      <td>0</td>\n",
       "    </tr>\n",
       "    <tr>\n",
       "      <th>4</th>\n",
       "      <td>[[[0, 0, 0], [44, 28, 16], [46, 30, 18], [43, ...</td>\n",
       "      <td>Barcelona</td>\n",
       "      <td>0</td>\n",
       "    </tr>\n",
       "    <tr>\n",
       "      <th>...</th>\n",
       "      <td>...</td>\n",
       "      <td>...</td>\n",
       "      <td>...</td>\n",
       "    </tr>\n",
       "    <tr>\n",
       "      <th>1745</th>\n",
       "      <td>[[[43, 38, 83], [36, 30, 80], [30, 21, 76], [2...</td>\n",
       "      <td>Athletic Bilbao</td>\n",
       "      <td>6</td>\n",
       "    </tr>\n",
       "    <tr>\n",
       "      <th>1746</th>\n",
       "      <td>[[[0, 0, 0], [0, 0, 0], [0, 0, 0], [0, 0, 0], ...</td>\n",
       "      <td>Athletic Bilbao</td>\n",
       "      <td>6</td>\n",
       "    </tr>\n",
       "    <tr>\n",
       "      <th>1747</th>\n",
       "      <td>[[[0, 0, 0], [28, 27, 23], [27, 26, 22], [25, ...</td>\n",
       "      <td>Athletic Bilbao</td>\n",
       "      <td>6</td>\n",
       "    </tr>\n",
       "    <tr>\n",
       "      <th>1748</th>\n",
       "      <td>[[[53, 178, 128], [61, 186, 136], [61, 184, 13...</td>\n",
       "      <td>Athletic Bilbao</td>\n",
       "      <td>6</td>\n",
       "    </tr>\n",
       "    <tr>\n",
       "      <th>1749</th>\n",
       "      <td>[[[0, 0, 0], [56, 182, 132], [55, 183, 132], [...</td>\n",
       "      <td>Athletic Bilbao</td>\n",
       "      <td>6</td>\n",
       "    </tr>\n",
       "  </tbody>\n",
       "</table>\n",
       "<p>1750 rows × 3 columns</p>\n",
       "</div>"
      ],
      "text/plain": [
       "                                              Camisetas          Equipos  \\\n",
       "0     [[[16, 14, 20], [16, 14, 20], [20, 18, 24], [1...        Barcelona   \n",
       "1     [[[0, 0, 0], [0, 0, 0], [0, 0, 0], [0, 0, 0], ...        Barcelona   \n",
       "2     [[[0, 0, 0], [7, 5, 5], [6, 4, 4], [5, 3, 3], ...        Barcelona   \n",
       "3     [[[21, 18, 27], [18, 16, 22], [19, 17, 21], [1...        Barcelona   \n",
       "4     [[[0, 0, 0], [44, 28, 16], [46, 30, 18], [43, ...        Barcelona   \n",
       "...                                                 ...              ...   \n",
       "1745  [[[43, 38, 83], [36, 30, 80], [30, 21, 76], [2...  Athletic Bilbao   \n",
       "1746  [[[0, 0, 0], [0, 0, 0], [0, 0, 0], [0, 0, 0], ...  Athletic Bilbao   \n",
       "1747  [[[0, 0, 0], [28, 27, 23], [27, 26, 22], [25, ...  Athletic Bilbao   \n",
       "1748  [[[53, 178, 128], [61, 186, 136], [61, 184, 13...  Athletic Bilbao   \n",
       "1749  [[[0, 0, 0], [56, 182, 132], [55, 183, 132], [...  Athletic Bilbao   \n",
       "\n",
       "      Labels  \n",
       "0          0  \n",
       "1          0  \n",
       "2          0  \n",
       "3          0  \n",
       "4          0  \n",
       "...      ...  \n",
       "1745       6  \n",
       "1746       6  \n",
       "1747       6  \n",
       "1748       6  \n",
       "1749       6  \n",
       "\n",
       "[1750 rows x 3 columns]"
      ]
     },
     "metadata": {},
     "output_type": "display_data"
    }
   ],
   "source": [
    "tShirtsDF['Labels'] = tShirtsDF['Equipos'].map(labels)\n",
    "display(tShirtsDF)"
   ]
  },
  {
   "cell_type": "code",
   "execution_count": 9,
   "metadata": {},
   "outputs": [
    {
     "name": "stdout",
     "output_type": "stream",
     "text": [
      "Shapes X=(1750, 256, 256, 3) y=(1750,)\n",
      "Total numero de etiquetas:  7\n",
      "Tipos de etiquetas:  [0 1 2 3 4 5 6]\n"
     ]
    }
   ],
   "source": [
    "img_rows, img_cols, img_rgb = 256, 256, 3\n",
    "\n",
    "X = np.stack(np.array(tShirtsDF.Camisetas),axis=2).swapaxes(2,0)\n",
    "y = np.array(tShirtsDF.Labels)\n",
    "print(\"Shapes X={} y={}\".format(X.shape,y.shape))\n",
    "\n",
    "classes = np.unique(y)\n",
    "nClasses = len(classes)\n",
    "print('Total numero de etiquetas: ', nClasses)\n",
    "print('Tipos de etiquetas: ', classes)"
   ]
  },
  {
   "cell_type": "code",
   "execution_count": 10,
   "metadata": {},
   "outputs": [
    {
     "name": "stdout",
     "output_type": "stream",
     "text": [
      "Training data shape :  (1400, 256, 256, 3) (1400,)\n",
      "Testing data shape :  (350, 256, 256, 3) (350,)\n"
     ]
    }
   ],
   "source": [
    "X_train,X_test,y_train,y_test = train_test_split(X, y, test_size=0.2)\n",
    "print('Training data shape : ', X_train.shape, y_train.shape)\n",
    "print('Testing data shape : ', X_test.shape, y_test.shape)\n",
    " \n",
    "X_train = X_train.astype('float32') / 255\n",
    "X_test = X_test.astype('float32') / 255\n",
    "\n",
    "y_train = keras.utils.to_categorical(y_train, nClasses)\n",
    "y_test = keras.utils.to_categorical(y_test, nClasses)"
   ]
  },
  {
   "cell_type": "code",
   "execution_count": 11,
   "metadata": {},
   "outputs": [],
   "source": [
    "input_shape = (img_rows, img_cols, img_rgb)\n",
    "tShirts_model = Sequential()\n",
    "tShirts_model.add(Conv2D(32, kernel_size=(3, 3),\n",
    "                 activation='relu',\n",
    "                 input_shape=input_shape))\n",
    "tShirts_model.add(Conv2D(64, (3, 3), activation='relu'))\n",
    "tShirts_model.add(MaxPooling2D(pool_size=(2, 2)))\n",
    "tShirts_model.add(Dropout(0.25))\n",
    "tShirts_model.add(Flatten())\n",
    "tShirts_model.add(Dense(128, activation='relu'))\n",
    "tShirts_model.add(Dropout(0.5))\n",
    "tShirts_model.add(Dense(nClasses, activation='softmax'))\n",
    "\n",
    "tShirts_model.compile(loss=keras.losses.categorical_crossentropy,\n",
    "              optimizer=keras.optimizers.Adadelta(),\n",
    "              metrics=['accuracy'])"
   ]
  },
  {
   "cell_type": "code",
   "execution_count": 13,
   "metadata": {
    "scrolled": false
   },
   "outputs": [],
   "source": [
    "batch_size = 20\n",
    "epochs = 10\n",
    "\n",
    "tShirts_model.fit(X_train, y_train,\n",
    "          batch_size=batch_size,\n",
    "          epochs=epochs,\n",
    "          verbose=1,\n",
    "          validation_data=(X_test, y_test))"
   ]
  },
  {
   "cell_type": "code",
   "execution_count": null,
   "metadata": {},
   "outputs": [],
   "source": [
    "score = tShirts_model.evaluate(X_test, y_test, verbose=0)\n",
    "print('Test loss:', score[0])\n",
    "print('Test accuracy:', score[1])"
   ]
  },
  {
   "cell_type": "markdown",
   "metadata": {},
   "source": [
    "# Guardo los modelos que mejor me dieron"
   ]
  },
  {
   "cell_type": "code",
   "execution_count": 16,
   "metadata": {},
   "outputs": [],
   "source": [
    "#tShirts_model.save(\"tShirts_LaLiga.h5py\")  --> test accuracy de 0.75\n",
    "#tShirts_model.save(\"tShirts073_LaLiga.h5py\")  --> test accuracy de 0.73"
   ]
  },
  {
   "cell_type": "markdown",
   "metadata": {},
   "source": [
    "# Hago una prueba para ver como califica a un jugador del Barcelona"
   ]
  },
  {
   "cell_type": "code",
   "execution_count": 71,
   "metadata": {},
   "outputs": [
    {
     "name": "stdout",
     "output_type": "stream",
     "text": [
      "(256, 256, 3)\n",
      "(1, 256, 256, 3)\n"
     ]
    }
   ],
   "source": [
    "#img2 = cv2.imread('Jugadores/Barcelona/19c9821613.jpg')\n",
    "img2 = cv2.imread('./Prueba/ce8fef052b.jpg')\n",
    "img2 = cv2.resize(img2,(256,256),3)\n",
    "print(img2.shape)\n",
    "img2 = np.expand_dims(img2, axis=0)\n",
    "print(img2.shape)"
   ]
  },
  {
   "cell_type": "code",
   "execution_count": 72,
   "metadata": {},
   "outputs": [
    {
     "name": "stdout",
     "output_type": "stream",
     "text": [
      "[[0. 1. 0. 0. 0. 0. 0.]]\n"
     ]
    }
   ],
   "source": [
    "predictions_single = modelo_a_trabajar.predict(img2)\n",
    "print(predictions_single)"
   ]
  },
  {
   "cell_type": "code",
   "execution_count": 73,
   "metadata": {},
   "outputs": [
    {
     "name": "stdout",
     "output_type": "stream",
     "text": [
      "La camiseta es del -> Real Madrid\n"
     ]
    }
   ],
   "source": [
    "for x in predictions_single:\n",
    "    if x[0] == max(x):\n",
    "        print('La camiseta es del -> Barcelona')\n",
    "    elif x[1] == max(x):\n",
    "        print('La camiseta es del -> Real Madrid')\n",
    "    elif x[2] == max(x):\n",
    "        print('La camiseta es del -> Valencia')\n",
    "    elif x[3] == max(x):\n",
    "        print('La camiseta es del -> Getafe')\n",
    "    elif x[4] == max(x):\n",
    "        print('La camiseta es del -> Betis')\n",
    "    elif x[5] == max(x):\n",
    "        print('La camiseta es del -> Atletico de Madrid')\n",
    "    elif x[6] == max(x):\n",
    "        print('La camiseta es del -> Athletic Bilbao')"
   ]
  },
  {
   "cell_type": "code",
   "execution_count": 82,
   "metadata": {},
   "outputs": [],
   "source": [
    "#prueba = 'Jugadores/Barcelona/19c9821613.jpg'\n",
    "\n",
    "def reconoceLaCamiseta(path):\n",
    "    def ryrImage(ruta):\n",
    "        img2 = cv2.imread(ruta)\n",
    "        img2 = cv2.resize(img2,(256,256),3)\n",
    "        img2 = np.expand_dims(img2, axis=0)\n",
    "        return img2\n",
    "\n",
    "    resultado = ryrImage(path)\n",
    "\n",
    "    modelo_a_trabajar = tf.keras.models.load_model(\n",
    "        filepath=\"tShirts_LaLiga.h5py\"\n",
    "    )\n",
    "\n",
    "    def predict(otraPrueba):\n",
    "        predictions_single = modelo_a_trabajar.predict(otraPrueba)\n",
    "        return predictions_single\n",
    "\n",
    "    resultadoFinal = predict(resultado)\n",
    "    resultadoFinal\n",
    "\n",
    "    for x in resultadoFinal:\n",
    "        if x[0] == max(x):\n",
    "            print('La camiseta es del -> Barcelona')\n",
    "        elif x[1] == max(x):\n",
    "            print('La camiseta es del -> Real Madrid')\n",
    "        elif x[2] == max(x):\n",
    "            print('La camiseta es del -> Valencia')\n",
    "        elif x[3] == max(x):\n",
    "            print('La camiseta es del -> Getafe')\n",
    "        elif x[4] == max(x):\n",
    "            print('La camiseta es del -> Betis')\n",
    "        elif x[5] == max(x):\n",
    "            print('La camiseta es del -> Atletico de Madrid')\n",
    "        elif x[6] == max(x):\n",
    "            print('La camiseta es del -> Athletic Bilbao')\n",
    "    return None"
   ]
  },
  {
   "cell_type": "code",
   "execution_count": 83,
   "metadata": {},
   "outputs": [
    {
     "name": "stdout",
     "output_type": "stream",
     "text": [
      "La camiseta es del -> Barcelona\n"
     ]
    }
   ],
   "source": [
    "reconoceLaCamiseta('Prueba/20c6d52136.jpg')"
   ]
  },
  {
   "cell_type": "markdown",
   "metadata": {},
   "source": [
    "# Importo el modelo que mejor me dió"
   ]
  },
  {
   "cell_type": "code",
   "execution_count": 12,
   "metadata": {},
   "outputs": [],
   "source": [
    "modelo_a_trabajar = tf.keras.models.load_model(\n",
    "    filepath=\"tShirts_LaLiga.h5py\"\n",
    ")"
   ]
  },
  {
   "cell_type": "code",
   "execution_count": 54,
   "metadata": {},
   "outputs": [
    {
     "name": "stdout",
     "output_type": "stream",
     "text": [
      "[3.2399228e-07 2.1769578e-05 9.9983668e-01 1.6912612e-05 1.0170879e-04\n",
      " 2.2311368e-05 3.2887982e-07]\n"
     ]
    }
   ],
   "source": [
    "equis = modelo_a_trabajar.predict(X_test)\n",
    "print(equis[3])"
   ]
  },
  {
   "cell_type": "code",
   "execution_count": 102,
   "metadata": {},
   "outputs": [
    {
     "data": {
      "text/html": [
       "<div>\n",
       "<style scoped>\n",
       "    .dataframe tbody tr th:only-of-type {\n",
       "        vertical-align: middle;\n",
       "    }\n",
       "\n",
       "    .dataframe tbody tr th {\n",
       "        vertical-align: top;\n",
       "    }\n",
       "\n",
       "    .dataframe thead th {\n",
       "        text-align: right;\n",
       "    }\n",
       "</style>\n",
       "<table border=\"1\" class=\"dataframe\">\n",
       "  <thead>\n",
       "    <tr style=\"text-align: right;\">\n",
       "      <th></th>\n",
       "      <th>BCN</th>\n",
       "      <th>RMD</th>\n",
       "      <th>VAL</th>\n",
       "      <th>GET</th>\n",
       "      <th>BET</th>\n",
       "      <th>ATM</th>\n",
       "      <th>ATB</th>\n",
       "    </tr>\n",
       "  </thead>\n",
       "  <tbody>\n",
       "    <tr>\n",
       "      <th>0</th>\n",
       "      <td>0.0</td>\n",
       "      <td>0.0</td>\n",
       "      <td>1.0</td>\n",
       "      <td>0.0</td>\n",
       "      <td>0.0</td>\n",
       "      <td>0.0</td>\n",
       "      <td>0.0</td>\n",
       "    </tr>\n",
       "    <tr>\n",
       "      <th>1</th>\n",
       "      <td>0.0</td>\n",
       "      <td>0.0</td>\n",
       "      <td>0.0</td>\n",
       "      <td>0.0</td>\n",
       "      <td>0.0</td>\n",
       "      <td>1.0</td>\n",
       "      <td>0.0</td>\n",
       "    </tr>\n",
       "    <tr>\n",
       "      <th>2</th>\n",
       "      <td>0.0</td>\n",
       "      <td>0.0</td>\n",
       "      <td>0.0</td>\n",
       "      <td>1.0</td>\n",
       "      <td>0.0</td>\n",
       "      <td>0.0</td>\n",
       "      <td>0.0</td>\n",
       "    </tr>\n",
       "    <tr>\n",
       "      <th>3</th>\n",
       "      <td>0.0</td>\n",
       "      <td>0.0</td>\n",
       "      <td>1.0</td>\n",
       "      <td>0.0</td>\n",
       "      <td>0.0</td>\n",
       "      <td>0.0</td>\n",
       "      <td>0.0</td>\n",
       "    </tr>\n",
       "    <tr>\n",
       "      <th>4</th>\n",
       "      <td>1.0</td>\n",
       "      <td>0.0</td>\n",
       "      <td>0.0</td>\n",
       "      <td>0.0</td>\n",
       "      <td>0.0</td>\n",
       "      <td>0.0</td>\n",
       "      <td>0.0</td>\n",
       "    </tr>\n",
       "    <tr>\n",
       "      <th>...</th>\n",
       "      <td>...</td>\n",
       "      <td>...</td>\n",
       "      <td>...</td>\n",
       "      <td>...</td>\n",
       "      <td>...</td>\n",
       "      <td>...</td>\n",
       "      <td>...</td>\n",
       "    </tr>\n",
       "    <tr>\n",
       "      <th>345</th>\n",
       "      <td>0.0</td>\n",
       "      <td>1.0</td>\n",
       "      <td>0.0</td>\n",
       "      <td>0.0</td>\n",
       "      <td>0.0</td>\n",
       "      <td>0.0</td>\n",
       "      <td>0.0</td>\n",
       "    </tr>\n",
       "    <tr>\n",
       "      <th>346</th>\n",
       "      <td>0.0</td>\n",
       "      <td>0.0</td>\n",
       "      <td>0.0</td>\n",
       "      <td>0.0</td>\n",
       "      <td>0.0</td>\n",
       "      <td>0.0</td>\n",
       "      <td>1.0</td>\n",
       "    </tr>\n",
       "    <tr>\n",
       "      <th>347</th>\n",
       "      <td>1.0</td>\n",
       "      <td>0.0</td>\n",
       "      <td>0.0</td>\n",
       "      <td>0.0</td>\n",
       "      <td>0.0</td>\n",
       "      <td>0.0</td>\n",
       "      <td>0.0</td>\n",
       "    </tr>\n",
       "    <tr>\n",
       "      <th>348</th>\n",
       "      <td>0.0</td>\n",
       "      <td>1.0</td>\n",
       "      <td>0.0</td>\n",
       "      <td>0.0</td>\n",
       "      <td>0.0</td>\n",
       "      <td>0.0</td>\n",
       "      <td>0.0</td>\n",
       "    </tr>\n",
       "    <tr>\n",
       "      <th>349</th>\n",
       "      <td>0.0</td>\n",
       "      <td>1.0</td>\n",
       "      <td>0.0</td>\n",
       "      <td>0.0</td>\n",
       "      <td>0.0</td>\n",
       "      <td>0.0</td>\n",
       "      <td>0.0</td>\n",
       "    </tr>\n",
       "  </tbody>\n",
       "</table>\n",
       "<p>350 rows × 7 columns</p>\n",
       "</div>"
      ],
      "text/plain": [
       "     BCN  RMD  VAL  GET  BET  ATM  ATB\n",
       "0    0.0  0.0  1.0  0.0  0.0  0.0  0.0\n",
       "1    0.0  0.0  0.0  0.0  0.0  1.0  0.0\n",
       "2    0.0  0.0  0.0  1.0  0.0  0.0  0.0\n",
       "3    0.0  0.0  1.0  0.0  0.0  0.0  0.0\n",
       "4    1.0  0.0  0.0  0.0  0.0  0.0  0.0\n",
       "..   ...  ...  ...  ...  ...  ...  ...\n",
       "345  0.0  1.0  0.0  0.0  0.0  0.0  0.0\n",
       "346  0.0  0.0  0.0  0.0  0.0  0.0  1.0\n",
       "347  1.0  0.0  0.0  0.0  0.0  0.0  0.0\n",
       "348  0.0  1.0  0.0  0.0  0.0  0.0  0.0\n",
       "349  0.0  1.0  0.0  0.0  0.0  0.0  0.0\n",
       "\n",
       "[350 rows x 7 columns]"
      ]
     },
     "execution_count": 102,
     "metadata": {},
     "output_type": "execute_result"
    }
   ],
   "source": [
    "equiposTest = pd.DataFrame(y_test)\n",
    "equiposTest.columns = ['BCN', 'RMD', 'VAL', 'GET', 'BET', 'ATM', 'ATB']\n",
    "equiposTest"
   ]
  },
  {
   "cell_type": "code",
   "execution_count": 103,
   "metadata": {},
   "outputs": [
    {
     "data": {
      "text/plain": [
       "0      VAL\n",
       "1      ATM\n",
       "2      GET\n",
       "3      VAL\n",
       "4      BCN\n",
       "      ... \n",
       "345    RMD\n",
       "346    ATB\n",
       "347    BCN\n",
       "348    RMD\n",
       "349    RMD\n",
       "Length: 350, dtype: object"
      ]
     },
     "execution_count": 103,
     "metadata": {},
     "output_type": "execute_result"
    }
   ],
   "source": [
    "equiposTestMax = equiposTest.idxmax(axis=1)\n",
    "equiposTestMax"
   ]
  },
  {
   "cell_type": "code",
   "execution_count": 104,
   "metadata": {},
   "outputs": [
    {
     "data": {
      "text/html": [
       "<div>\n",
       "<style scoped>\n",
       "    .dataframe tbody tr th:only-of-type {\n",
       "        vertical-align: middle;\n",
       "    }\n",
       "\n",
       "    .dataframe tbody tr th {\n",
       "        vertical-align: top;\n",
       "    }\n",
       "\n",
       "    .dataframe thead th {\n",
       "        text-align: right;\n",
       "    }\n",
       "</style>\n",
       "<table border=\"1\" class=\"dataframe\">\n",
       "  <thead>\n",
       "    <tr style=\"text-align: right;\">\n",
       "      <th></th>\n",
       "      <th>BCN</th>\n",
       "      <th>RMD</th>\n",
       "      <th>VAL</th>\n",
       "      <th>GET</th>\n",
       "      <th>BET</th>\n",
       "      <th>ATM</th>\n",
       "      <th>ATB</th>\n",
       "    </tr>\n",
       "  </thead>\n",
       "  <tbody>\n",
       "    <tr>\n",
       "      <th>0</th>\n",
       "      <td>1.351515e-03</td>\n",
       "      <td>1.323944e-02</td>\n",
       "      <td>9.440190e-01</td>\n",
       "      <td>4.236745e-03</td>\n",
       "      <td>4.093752e-03</td>\n",
       "      <td>2.647957e-02</td>\n",
       "      <td>6.579968e-03</td>\n",
       "    </tr>\n",
       "    <tr>\n",
       "      <th>1</th>\n",
       "      <td>3.779810e-07</td>\n",
       "      <td>6.827418e-06</td>\n",
       "      <td>6.735641e-06</td>\n",
       "      <td>4.728725e-07</td>\n",
       "      <td>1.268635e-06</td>\n",
       "      <td>9.997966e-01</td>\n",
       "      <td>1.877361e-04</td>\n",
       "    </tr>\n",
       "    <tr>\n",
       "      <th>2</th>\n",
       "      <td>4.576966e-11</td>\n",
       "      <td>1.929950e-10</td>\n",
       "      <td>1.435207e-15</td>\n",
       "      <td>1.000000e+00</td>\n",
       "      <td>8.516760e-12</td>\n",
       "      <td>1.727124e-14</td>\n",
       "      <td>3.964205e-20</td>\n",
       "    </tr>\n",
       "    <tr>\n",
       "      <th>3</th>\n",
       "      <td>3.239923e-07</td>\n",
       "      <td>2.176958e-05</td>\n",
       "      <td>9.998367e-01</td>\n",
       "      <td>1.691261e-05</td>\n",
       "      <td>1.017088e-04</td>\n",
       "      <td>2.231137e-05</td>\n",
       "      <td>3.288798e-07</td>\n",
       "    </tr>\n",
       "    <tr>\n",
       "      <th>4</th>\n",
       "      <td>9.877312e-01</td>\n",
       "      <td>1.163369e-06</td>\n",
       "      <td>1.982204e-08</td>\n",
       "      <td>1.226405e-02</td>\n",
       "      <td>3.480409e-08</td>\n",
       "      <td>3.596043e-06</td>\n",
       "      <td>3.135274e-08</td>\n",
       "    </tr>\n",
       "    <tr>\n",
       "      <th>...</th>\n",
       "      <td>...</td>\n",
       "      <td>...</td>\n",
       "      <td>...</td>\n",
       "      <td>...</td>\n",
       "      <td>...</td>\n",
       "      <td>...</td>\n",
       "      <td>...</td>\n",
       "    </tr>\n",
       "    <tr>\n",
       "      <th>345</th>\n",
       "      <td>2.191469e-07</td>\n",
       "      <td>4.401526e-01</td>\n",
       "      <td>5.597324e-01</td>\n",
       "      <td>4.646109e-05</td>\n",
       "      <td>6.485372e-05</td>\n",
       "      <td>2.941140e-06</td>\n",
       "      <td>5.859252e-07</td>\n",
       "    </tr>\n",
       "    <tr>\n",
       "      <th>346</th>\n",
       "      <td>6.848549e-07</td>\n",
       "      <td>1.101461e-07</td>\n",
       "      <td>6.342930e-08</td>\n",
       "      <td>1.777337e-08</td>\n",
       "      <td>5.799563e-09</td>\n",
       "      <td>1.458493e-06</td>\n",
       "      <td>9.999976e-01</td>\n",
       "    </tr>\n",
       "    <tr>\n",
       "      <th>347</th>\n",
       "      <td>9.998833e-01</td>\n",
       "      <td>7.851769e-08</td>\n",
       "      <td>3.804027e-09</td>\n",
       "      <td>7.707159e-05</td>\n",
       "      <td>5.927157e-07</td>\n",
       "      <td>3.884768e-05</td>\n",
       "      <td>3.223378e-09</td>\n",
       "    </tr>\n",
       "    <tr>\n",
       "      <th>348</th>\n",
       "      <td>9.562062e-07</td>\n",
       "      <td>9.998028e-01</td>\n",
       "      <td>1.518510e-04</td>\n",
       "      <td>3.131110e-05</td>\n",
       "      <td>1.132607e-05</td>\n",
       "      <td>1.560756e-06</td>\n",
       "      <td>2.345764e-07</td>\n",
       "    </tr>\n",
       "    <tr>\n",
       "      <th>349</th>\n",
       "      <td>4.458273e-04</td>\n",
       "      <td>3.267618e-01</td>\n",
       "      <td>6.128673e-01</td>\n",
       "      <td>8.445514e-03</td>\n",
       "      <td>4.971250e-02</td>\n",
       "      <td>1.378398e-03</td>\n",
       "      <td>3.885783e-04</td>\n",
       "    </tr>\n",
       "  </tbody>\n",
       "</table>\n",
       "<p>350 rows × 7 columns</p>\n",
       "</div>"
      ],
      "text/plain": [
       "              BCN           RMD           VAL           GET           BET  \\\n",
       "0    1.351515e-03  1.323944e-02  9.440190e-01  4.236745e-03  4.093752e-03   \n",
       "1    3.779810e-07  6.827418e-06  6.735641e-06  4.728725e-07  1.268635e-06   \n",
       "2    4.576966e-11  1.929950e-10  1.435207e-15  1.000000e+00  8.516760e-12   \n",
       "3    3.239923e-07  2.176958e-05  9.998367e-01  1.691261e-05  1.017088e-04   \n",
       "4    9.877312e-01  1.163369e-06  1.982204e-08  1.226405e-02  3.480409e-08   \n",
       "..            ...           ...           ...           ...           ...   \n",
       "345  2.191469e-07  4.401526e-01  5.597324e-01  4.646109e-05  6.485372e-05   \n",
       "346  6.848549e-07  1.101461e-07  6.342930e-08  1.777337e-08  5.799563e-09   \n",
       "347  9.998833e-01  7.851769e-08  3.804027e-09  7.707159e-05  5.927157e-07   \n",
       "348  9.562062e-07  9.998028e-01  1.518510e-04  3.131110e-05  1.132607e-05   \n",
       "349  4.458273e-04  3.267618e-01  6.128673e-01  8.445514e-03  4.971250e-02   \n",
       "\n",
       "              ATM           ATB  \n",
       "0    2.647957e-02  6.579968e-03  \n",
       "1    9.997966e-01  1.877361e-04  \n",
       "2    1.727124e-14  3.964205e-20  \n",
       "3    2.231137e-05  3.288798e-07  \n",
       "4    3.596043e-06  3.135274e-08  \n",
       "..            ...           ...  \n",
       "345  2.941140e-06  5.859252e-07  \n",
       "346  1.458493e-06  9.999976e-01  \n",
       "347  3.884768e-05  3.223378e-09  \n",
       "348  1.560756e-06  2.345764e-07  \n",
       "349  1.378398e-03  3.885783e-04  \n",
       "\n",
       "[350 rows x 7 columns]"
      ]
     },
     "execution_count": 104,
     "metadata": {},
     "output_type": "execute_result"
    }
   ],
   "source": [
    "prediccionesResultado = pd.DataFrame(equis)\n",
    "prediccionesResultado.columns = ['BCN', 'RMD', 'VAL', 'GET', 'BET', 'ATM', 'ATB']\n",
    "prediccionesResultado"
   ]
  },
  {
   "cell_type": "code",
   "execution_count": 105,
   "metadata": {},
   "outputs": [
    {
     "data": {
      "text/plain": [
       "0      VAL\n",
       "1      ATM\n",
       "2      GET\n",
       "3      VAL\n",
       "4      BCN\n",
       "      ... \n",
       "345    VAL\n",
       "346    ATB\n",
       "347    BCN\n",
       "348    RMD\n",
       "349    VAL\n",
       "Length: 350, dtype: object"
      ]
     },
     "execution_count": 105,
     "metadata": {},
     "output_type": "execute_result"
    }
   ],
   "source": [
    "prediccionesResultadoMax = prediccionesResultado.idxmax(axis=1)\n",
    "prediccionesResultadoMax"
   ]
  },
  {
   "cell_type": "code",
   "execution_count": 106,
   "metadata": {},
   "outputs": [
    {
     "data": {
      "text/html": [
       "<div>\n",
       "<style scoped>\n",
       "    .dataframe tbody tr th:only-of-type {\n",
       "        vertical-align: middle;\n",
       "    }\n",
       "\n",
       "    .dataframe tbody tr th {\n",
       "        vertical-align: top;\n",
       "    }\n",
       "\n",
       "    .dataframe thead th {\n",
       "        text-align: right;\n",
       "    }\n",
       "</style>\n",
       "<table border=\"1\" class=\"dataframe\">\n",
       "  <thead>\n",
       "    <tr style=\"text-align: right;\">\n",
       "      <th></th>\n",
       "      <th>EQUIPO</th>\n",
       "      <th>PREDICCION</th>\n",
       "      <th>ACIERTO</th>\n",
       "    </tr>\n",
       "  </thead>\n",
       "  <tbody>\n",
       "    <tr>\n",
       "      <th>0</th>\n",
       "      <td>VAL</td>\n",
       "      <td>VAL</td>\n",
       "      <td>True</td>\n",
       "    </tr>\n",
       "    <tr>\n",
       "      <th>1</th>\n",
       "      <td>ATM</td>\n",
       "      <td>ATM</td>\n",
       "      <td>True</td>\n",
       "    </tr>\n",
       "    <tr>\n",
       "      <th>2</th>\n",
       "      <td>GET</td>\n",
       "      <td>GET</td>\n",
       "      <td>True</td>\n",
       "    </tr>\n",
       "    <tr>\n",
       "      <th>3</th>\n",
       "      <td>VAL</td>\n",
       "      <td>VAL</td>\n",
       "      <td>True</td>\n",
       "    </tr>\n",
       "    <tr>\n",
       "      <th>4</th>\n",
       "      <td>BCN</td>\n",
       "      <td>BCN</td>\n",
       "      <td>True</td>\n",
       "    </tr>\n",
       "    <tr>\n",
       "      <th>...</th>\n",
       "      <td>...</td>\n",
       "      <td>...</td>\n",
       "      <td>...</td>\n",
       "    </tr>\n",
       "    <tr>\n",
       "      <th>345</th>\n",
       "      <td>RMD</td>\n",
       "      <td>VAL</td>\n",
       "      <td>False</td>\n",
       "    </tr>\n",
       "    <tr>\n",
       "      <th>346</th>\n",
       "      <td>ATB</td>\n",
       "      <td>ATB</td>\n",
       "      <td>True</td>\n",
       "    </tr>\n",
       "    <tr>\n",
       "      <th>347</th>\n",
       "      <td>BCN</td>\n",
       "      <td>BCN</td>\n",
       "      <td>True</td>\n",
       "    </tr>\n",
       "    <tr>\n",
       "      <th>348</th>\n",
       "      <td>RMD</td>\n",
       "      <td>RMD</td>\n",
       "      <td>True</td>\n",
       "    </tr>\n",
       "    <tr>\n",
       "      <th>349</th>\n",
       "      <td>RMD</td>\n",
       "      <td>VAL</td>\n",
       "      <td>False</td>\n",
       "    </tr>\n",
       "  </tbody>\n",
       "</table>\n",
       "<p>350 rows × 3 columns</p>\n",
       "</div>"
      ],
      "text/plain": [
       "    EQUIPO PREDICCION  ACIERTO\n",
       "0      VAL        VAL     True\n",
       "1      ATM        ATM     True\n",
       "2      GET        GET     True\n",
       "3      VAL        VAL     True\n",
       "4      BCN        BCN     True\n",
       "..     ...        ...      ...\n",
       "345    RMD        VAL    False\n",
       "346    ATB        ATB     True\n",
       "347    BCN        BCN     True\n",
       "348    RMD        RMD     True\n",
       "349    RMD        VAL    False\n",
       "\n",
       "[350 rows x 3 columns]"
      ]
     },
     "execution_count": 106,
     "metadata": {},
     "output_type": "execute_result"
    }
   ],
   "source": [
    "resultadoFinal = [equiposTestMax, prediccionesResultadoMax]\n",
    "resultadoFinal = pd.concat(resultadoFinal, axis=1, join='inner')\n",
    "resultadoFinal.columns = ['EQUIPO', 'PREDICCION']\n",
    "resultadoFinal['ACIERTO'] = (resultadoFinal['EQUIPO'] == resultadoFinal['PREDICCION'])\n",
    "resultadoFinal"
   ]
  },
  {
   "cell_type": "code",
   "execution_count": 107,
   "metadata": {},
   "outputs": [
    {
     "data": {
      "text/plain": [
       "True     318\n",
       "False     32\n",
       "Name: ACIERTO, dtype: int64"
      ]
     },
     "execution_count": 107,
     "metadata": {},
     "output_type": "execute_result"
    }
   ],
   "source": [
    "resultadoFinal.ACIERTO.value_counts()"
   ]
  },
  {
   "cell_type": "code",
   "execution_count": 108,
   "metadata": {},
   "outputs": [
    {
     "data": {
      "text/plain": [
       "True     0.908571\n",
       "False    0.091429\n",
       "Name: ACIERTO, dtype: float64"
      ]
     },
     "execution_count": 108,
     "metadata": {},
     "output_type": "execute_result"
    }
   ],
   "source": [
    "porcentajeAcierto = resultadoFinal.ACIERTO.value_counts(True)\n",
    "porcentajeAcierto"
   ]
  },
  {
   "cell_type": "code",
   "execution_count": 90,
   "metadata": {},
   "outputs": [
    {
     "name": "stdout",
     "output_type": "stream",
     "text": [
      "<Response [404]>\n"
     ]
    }
   ],
   "source": [
    "x = 'Prueba/20c6d52136.jpg'\n",
    "data = requests.get(f'http://localhost:5000/reconoce/{x}')\n",
    "print(data)"
   ]
  },
  {
   "cell_type": "code",
   "execution_count": null,
   "metadata": {},
   "outputs": [],
   "source": []
  }
 ],
 "metadata": {
  "kernelspec": {
   "display_name": "Python 3",
   "language": "python",
   "name": "python3"
  },
  "language_info": {
   "codemirror_mode": {
    "name": "ipython",
    "version": 3
   },
   "file_extension": ".py",
   "mimetype": "text/x-python",
   "name": "python",
   "nbconvert_exporter": "python",
   "pygments_lexer": "ipython3",
   "version": "3.7.5"
  }
 },
 "nbformat": 4,
 "nbformat_minor": 4
}
